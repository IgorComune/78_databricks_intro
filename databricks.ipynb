{
 "cells": [
  {
   "cell_type": "markdown",
   "metadata": {
    "application/vnd.databricks.v1+cell": {
     "cellMetadata": {},
     "inputWidgets": {},
     "nuid": "4da48783-2b68-4c75-ab5d-e21558c6fb19",
     "showTitle": false,
     "title": ""
    }
   },
   "source": [
    "# Creating table"
   ]
  },
  {
   "cell_type": "code",
   "execution_count": 0,
   "metadata": {
    "application/vnd.databricks.v1+cell": {
     "cellMetadata": {},
     "inputWidgets": {},
     "nuid": "9e644f30-b23b-40d0-b63e-09776a4897eb",
     "showTitle": false,
     "title": ""
    }
   },
   "outputs": [],
   "source": [
    "dbutils.fs.rm('/user/hive/warehouse/data_csv', recurse=True)\n",
    "\n",
    "# Para este procedimento funcionar o arquivo data.csv deve estar carregado no DBFS no endereço especificado na variável `file_location`\n",
    "file_location = '/FileStore/tables/data.csv'\n",
    "file_type = 'csv'\n",
    "infer_schema = 'true'\n",
    "first_row_is_header = 'true'\n",
    "delimiter = ';'\n",
    "\n",
    "df = spark\\\n",
    "    .read\\\n",
    "    .format(file_type)\\\n",
    "    .option('inferSchema', infer_schema)\\\n",
    "    .option('header', first_row_is_header)\\\n",
    "    .option('sep', delimiter)\\\n",
    "    .load(file_location)\n",
    "\n",
    "table_name = 'data_csv'\n",
    "\n",
    "df.write.format('parquet').saveAsTable(table_name)"
   ]
  },
  {
   "cell_type": "markdown",
   "metadata": {
    "application/vnd.databricks.v1+cell": {
     "cellMetadata": {},
     "inputWidgets": {},
     "nuid": "2c48ba97-f6e8-4fcd-8e60-005e213e386c",
     "showTitle": false,
     "title": ""
    }
   },
   "source": [
    "# Listing files"
   ]
  },
  {
   "cell_type": "code",
   "execution_count": 0,
   "metadata": {
    "application/vnd.databricks.v1+cell": {
     "cellMetadata": {
      "byteLimit": 2048000,
      "rowLimit": 10000
     },
     "inputWidgets": {},
     "nuid": "f2b015bc-7c2b-4dab-b2c0-521fb5e73056",
     "showTitle": false,
     "title": ""
    }
   },
   "outputs": [
    {
     "output_type": "stream",
     "name": "stdout",
     "output_type": "stream",
     "text": [
      "Out[1]: [FileInfo(path='dbfs:/FileStore/', name='FileStore/', size=0, modificationTime=0),\n FileInfo(path='dbfs:/databricks-datasets/', name='databricks-datasets/', size=0, modificationTime=0),\n FileInfo(path='dbfs:/databricks-results/', name='databricks-results/', size=0, modificationTime=0),\n FileInfo(path='dbfs:/user/', name='user/', size=0, modificationTime=0)]"
     ]
    }
   ],
   "source": [
    "dbutils.fs.ls('/')"
   ]
  },
  {
   "cell_type": "code",
   "execution_count": 0,
   "metadata": {
    "application/vnd.databricks.v1+cell": {
     "cellMetadata": {
      "byteLimit": 2048000,
      "rowLimit": 10000
     },
     "inputWidgets": {},
     "nuid": "9e19375e-06ce-4df6-adee-18ee00da346c",
     "showTitle": false,
     "title": ""
    }
   },
   "outputs": [
    {
     "output_type": "stream",
     "name": "stdout",
     "output_type": "stream",
     "text": [
      "FileInfo(path='dbfs:/FileStore/', name='FileStore/', size=0, modificationTime=0)\nFileInfo(path='dbfs:/databricks-datasets/', name='databricks-datasets/', size=0, modificationTime=0)\nFileInfo(path='dbfs:/databricks-results/', name='databricks-results/', size=0, modificationTime=0)\nFileInfo(path='dbfs:/user/', name='user/', size=0, modificationTime=0)\n"
     ]
    }
   ],
   "source": [
    "for item in dbutils.fs.ls('/'):\n",
    "    print(item)"
   ]
  },
  {
   "cell_type": "code",
   "execution_count": 0,
   "metadata": {
    "application/vnd.databricks.v1+cell": {
     "cellMetadata": {
      "byteLimit": 2048000,
      "rowLimit": 10000
     },
     "inputWidgets": {},
     "nuid": "6bd00a88-3d00-487b-84fd-fcacc0cc58c6",
     "showTitle": false,
     "title": ""
    }
   },
   "outputs": [
    {
     "output_type": "stream",
     "name": "stdout",
     "output_type": "stream",
     "text": [
      "dbfs:/FileStore/\ndbfs:/databricks-datasets/\ndbfs:/databricks-results/\ndbfs:/user/\n"
     ]
    }
   ],
   "source": [
    "for item in dbutils.fs.ls('/'):\n",
    "    print(item.path)"
   ]
  },
  {
   "cell_type": "code",
   "execution_count": 0,
   "metadata": {
    "application/vnd.databricks.v1+cell": {
     "cellMetadata": {
      "byteLimit": 2048000,
      "rowLimit": 10000
     },
     "inputWidgets": {},
     "nuid": "c3b7280b-ef7d-4d0d-8b22-0ba216468521",
     "showTitle": false,
     "title": ""
    }
   },
   "outputs": [
    {
     "output_type": "stream",
     "name": "stdout",
     "output_type": "stream",
     "text": [
      "FileStore/\ndatabricks-datasets/\ndatabricks-results/\nuser/\n"
     ]
    }
   ],
   "source": [
    "for item in dbutils.fs.ls('/'):\n",
    "    print(item.name)"
   ]
  },
  {
   "cell_type": "markdown",
   "metadata": {
    "application/vnd.databricks.v1+cell": {
     "cellMetadata": {},
     "inputWidgets": {},
     "nuid": "224c0471-9267-4087-b936-1fd38fd2f03a",
     "showTitle": false,
     "title": ""
    }
   },
   "source": [
    "# acessing files DBFS"
   ]
  },
  {
   "cell_type": "code",
   "execution_count": 0,
   "metadata": {
    "application/vnd.databricks.v1+cell": {
     "cellMetadata": {
      "byteLimit": 2048000,
      "rowLimit": 10000
     },
     "inputWidgets": {},
     "nuid": "7f11f9a5-2749-41f2-8e90-eb8a27f9d59b",
     "showTitle": false,
     "title": ""
    }
   },
   "outputs": [
    {
     "output_type": "stream",
     "name": "stdout",
     "output_type": "stream",
     "text": [
      "Out[5]: [FileInfo(path='dbfs:/FileStore/tables/', name='tables/', size=0, modificationTime=0)]"
     ]
    }
   ],
   "source": [
    "dbutils.fs.ls('/FileStore/')"
   ]
  },
  {
   "cell_type": "code",
   "execution_count": 0,
   "metadata": {
    "application/vnd.databricks.v1+cell": {
     "cellMetadata": {
      "byteLimit": 2048000,
      "rowLimit": 10000
     },
     "inputWidgets": {},
     "nuid": "8371c9ca-98c2-4ade-8b7c-a46af33869f0",
     "showTitle": false,
     "title": ""
    }
   },
   "outputs": [
    {
     "output_type": "stream",
     "name": "stdout",
     "output_type": "stream",
     "text": [
      "Out[6]: [FileInfo(path='dbfs:/FileStore/tables/data.csv', name='data.csv', size=2781, modificationTime=1694963539000)]"
     ]
    }
   ],
   "source": [
    "dbutils.fs.ls('/FileStore/tables')"
   ]
  },
  {
   "cell_type": "code",
   "execution_count": 0,
   "metadata": {
    "application/vnd.databricks.v1+cell": {
     "cellMetadata": {
      "byteLimit": 2048000,
      "rowLimit": 10000
     },
     "inputWidgets": {},
     "nuid": "6065b256-c000-4adf-8d69-945063e15651",
     "showTitle": false,
     "title": ""
    }
   },
   "outputs": [
    {
     "output_type": "display_data",
     "data": {
      "text/html": [
       "<style scoped>\n",
       "  .table-result-container {\n",
       "    max-height: 300px;\n",
       "    overflow: auto;\n",
       "  }\n",
       "  table, th, td {\n",
       "    border: 1px solid black;\n",
       "    border-collapse: collapse;\n",
       "  }\n",
       "  th, td {\n",
       "    padding: 5px;\n",
       "  }\n",
       "  th {\n",
       "    text-align: left;\n",
       "  }\n",
       "</style><div class='table-result-container'><table class='table-result'><thead style='background-color: white'><tr><th>path</th><th>name</th><th>size</th><th>modificationTime</th></tr></thead><tbody><tr><td>dbfs:/FileStore/tables/data.csv</td><td>data.csv</td><td>2781</td><td>1694963539000</td></tr></tbody></table></div>"
      ]
     },
     "metadata": {
      "application/vnd.databricks.v1+output": {
       "addedWidgets": {},
       "aggData": [],
       "aggError": "",
       "aggOverflow": false,
       "aggSchema": [],
       "aggSeriesLimitReached": false,
       "aggType": "",
       "arguments": {},
       "columnCustomDisplayInfos": {},
       "data": [
        [
         "dbfs:/FileStore/tables/data.csv",
         "data.csv",
         2781,
         1694963539000
        ]
       ],
       "datasetInfos": [],
       "dbfsResultPath": null,
       "isJsonSchema": true,
       "metadata": {},
       "overflow": false,
       "plotOptions": {
        "customPlotOptions": {},
        "displayType": "table",
        "pivotAggregation": null,
        "pivotColumns": null,
        "xColumns": null,
        "yColumns": null
       },
       "removedWidgets": [],
       "schema": [
        {
         "metadata": "{}",
         "name": "path",
         "type": "\"string\""
        },
        {
         "metadata": "{}",
         "name": "name",
         "type": "\"string\""
        },
        {
         "metadata": "{}",
         "name": "size",
         "type": "\"long\""
        },
        {
         "metadata": "{}",
         "name": "modificationTime",
         "type": "\"long\""
        }
       ],
       "type": "table"
      }
     },
     "output_type": "display_data"
    }
   ],
   "source": [
    "display(dbutils.fs.ls('/FileStore/tables'))"
   ]
  },
  {
   "cell_type": "markdown",
   "metadata": {
    "application/vnd.databricks.v1+cell": {
     "cellMetadata": {},
     "inputWidgets": {},
     "nuid": "43d18b60-418e-482e-ab54-94f750282392",
     "showTitle": false,
     "title": ""
    }
   },
   "source": [
    "# Listing header"
   ]
  },
  {
   "cell_type": "code",
   "execution_count": 0,
   "metadata": {
    "application/vnd.databricks.v1+cell": {
     "cellMetadata": {
      "byteLimit": 2048000,
      "rowLimit": 10000
     },
     "inputWidgets": {},
     "nuid": "d34a8eab-fb93-443f-b5c6-e322e789bc84",
     "showTitle": false,
     "title": ""
    }
   },
   "outputs": [
    {
     "output_type": "stream",
     "name": "stdout",
     "output_type": "stream",
     "text": [
      "Out[9]: 'Nomes;Idades;Peso;Altura;IMC\\r\\nAaron;39;53;1.93;14.2\\r\\nAdam;46;100;1.58;40.1\\r\\nAdrian;24;110;1.57;44.6\\r\\nAlec;39;57;1.83;17.0\\r\\nAlexander;32;89;1.54;37.5\\r\\nAlfred;58;116;1.53;49.6\\r\\nAndrew;59;60;1.58;24.0\\r\\nAnthony;22;57;1.50;25.3\\r\\nArthur;20;114;1.87;32.6\\r\\nAsher;40;91;1.76;29.4\\r\\nBarnabay;25;69;1.64;25.7\\r\\nBenedict;37;115;1.72;38.9\\r\\nBenjamin;41;76;1.85;22.2\\r\\nBradley;42;54;1.91;14.8\\r\\nBrandon;45;115;1.60;44.9\\r\\nBrian;52;52;1.68;18.4\\r\\nBrice;43;81;1.60;31.6\\r\\nBruce;41;53;1.61;20.4\\r\\nCaleb;36;102;1.72;34.5\\r\\nCameron;60;104;1.87;29.7\\r\\nCharles;32;90;1.74;29.7\\r\\nChristopher;57;75;1.99;18.9\\r\\nClinton;44;61;1.95;16.0\\r\\nColin;37;81;1.57;32.9\\r\\nConnor;32;111;1.71;38.0\\r\\nDamian;28;116;1.96;30.2\\r\\nDaniel;27;103;1.88;29.1\\r\\nDavid;43;74;1.60;28.9\\r\\nDeclan;36;114;1.93;30.6\\r\\nDexter;57;80;1.75;26.1\\r\\nDominic;22;77;1.62;29.3\\r\\nDonald;51;75;1.66;27.2\\r\\nDouglas;28;93;1.99;23.5\\r\\nDuncan;27;99;1.78;31.2\\r\\nDustin;25;100;1.87;28.6\\r\\nDylan;39;117;1.94;31.1\\r\\nEdgard;47;75;1.86;21.7\\r\\nEdward;48;117;1.53;50.0\\r\\nEli;24;52;1.70;18.0\\r\\nElias;54;58;1.70;20.1\\r\\nEric;39;106;1.71;36.3\\r\\nEthan;32;89;1.82;26.9\\r\\nEvan;65;107;1.95;28.1\\r\\nEzra;53;51;1.57;20.7\\r\\nForrest;40;58;1.57;23.5\\r\\nFrank;34;79;1.63;29.7\\r\\nFrederick;23;56;1.56;23.0\\r\\nGeorge;28;84;1.57;34.1\\r\\nGilbert;42;98;2.00;24.5\\r\\nGraham;20;51;1.61;19.7\\r\\nHank;44;71;1.75;23.2\\r\\nHarold;49;74;1.63;27.9\\r\\nHarry;32;89;1.96;23.2\\r\\nHarvey;43;120;1.54;50.6\\r\\nHenry;25;78;1.93;20.9\\r\\nIan;19;77;1.56;31.6\\r\\nJack;59;81;1.79;25.3\\r\\nJackson;64;114;1.83;34.0\\r\\nJacob;65;95;2.00;23.8\\r\\nJames;18;89;1.53;38.0\\r\\nJohn;54;60;1.98;15.3\\r\\nJonathan;55;96;1.53;41.0\\r\\nJordan;55;90;1.68;31.9\\r\\nJoseph;62;88;1.50;39.1\\r\\nJoshua;59;116;1.52;50.2\\r\\nJude;53;79;1.59;31.2\\r\\nJulian;64;51;1.62;19.4\\r\\nJustin;36;114;1.52;49.3\\r\\nKenneth;61;101;1.80;31.2\\r\\nKevin;35;87;1.95;22.9\\r\\nKyle;26;115;1.51;50.4\\r\\nLewis;18;97;1.88;27.4\\r\\nLiam;62;86;1.82;26.0\\r\\nLogan;35;74;1.64;27.5\\r\\nLuke;43;86;1.76;27.8\\r\\nMalcolm;46;107;1.52;46.3\\r\\nMark;47;95;1.87;27.2\\r\\nMartin;61;50;1.94;13.3\\r\\nMatthew;29;61;1.90;16.9\\r\\nMaximiliam;56;98;1.85;28.6\\r\\nMichael;65;77;1.57;31.2\\r\\nMilo;52;115;1.99;29.0\\r\\nNathaniel;37;100;1.99;25.3\\r\\nNeil;23;95;1.60;37.1\\r\\nNicholas;41;109;1.58;43.7\\r\\nNoah;19;73;1.93;19.6\\r\\nOliver;57;102;1.71;34.9\\r\\nOscar;21;99;1.76;32.0\\r\\nOwen;33;68;1.82;20.5\\r\\nPatrick;64;52;1.82;15.7\\r\\nPaul;39;93;1.59;36.8\\r\\nPeter;65;110;1.75;35.9\\r\\nQuincy;53;73;1.78;23.0\\r\\nRalph;60;62;1.84;18.3\\r\\nRichard;54;58;1.98;14.8\\r\\nRobert;41;85;1.56;34.9\\r\\nRobin;31;114;1.61;44.0\\r\\nRoger;58;77;1.68;27.3\\r\\nRussell;24;108;1.64;40.2\\r\\nRyan;42;74;1.58;29.6\\r\\nRyder;64;58;1.52;25.1\\r\\nSamuel;23;104;1.82;31.4\\r\\nScott;59;53;1.67;19.0\\r\\nSean;54;73;1.61;28.2\\r\\nSebastian;39;102;1.99;25.8\\r\\nStephen;21;74;1.61;28.5\\r\\nSteven;45;93;1.97;24.0\\r\\nStuart;59;70;1.93;18.8\\r\\nThomas;32;120;1.56;49.3\\r\\nTyler;26;95;1.62;36.2\\r\\nVincent;36;109;1.57;44.2\\r\\nWalter;44;108;1.90;29.9\\r\\nWilliam;23;108;1.63;40.6\\r\\nWyatt;51;83;1.98;21.2\\r\\n'"
     ]
    }
   ],
   "source": [
    "dbutils.fs.head('/FileStore/tables/data.csv')"
   ]
  },
  {
   "cell_type": "markdown",
   "metadata": {
    "application/vnd.databricks.v1+cell": {
     "cellMetadata": {},
     "inputWidgets": {},
     "nuid": "78685247-f6b2-498d-92f5-c92a40f71c6c",
     "showTitle": false,
     "title": ""
    }
   },
   "source": [
    "# Deleting"
   ]
  },
  {
   "cell_type": "code",
   "execution_count": 0,
   "metadata": {
    "application/vnd.databricks.v1+cell": {
     "cellMetadata": {
      "byteLimit": 2048000,
      "rowLimit": 10000
     },
     "inputWidgets": {},
     "nuid": "78d25ab1-839c-434d-877b-c4fada70b395",
     "showTitle": false,
     "title": ""
    }
   },
   "outputs": [
    {
     "output_type": "stream",
     "name": "stdout",
     "output_type": "stream",
     "text": [
      "Out[11]: True"
     ]
    }
   ],
   "source": [
    "dbutils.fs.rm('/FileStore/tables/data.csv')"
   ]
  },
  {
   "cell_type": "code",
   "execution_count": 0,
   "metadata": {
    "application/vnd.databricks.v1+cell": {
     "cellMetadata": {
      "byteLimit": 2048000,
      "rowLimit": 10000
     },
     "inputWidgets": {},
     "nuid": "50ba43a5-3c89-4dab-9069-8775e472aeb5",
     "showTitle": false,
     "title": ""
    }
   },
   "outputs": [
    {
     "output_type": "stream",
     "name": "stdout",
     "output_type": "stream",
     "text": [
      "Out[12]: []"
     ]
    }
   ],
   "source": [
    "dbutils.fs.ls('/FileStore/tables/')"
   ]
  },
  {
   "cell_type": "code",
   "execution_count": 0,
   "metadata": {
    "application/vnd.databricks.v1+cell": {
     "cellMetadata": {},
     "inputWidgets": {},
     "nuid": "76608336-2619-4897-8871-33d335a6c594",
     "showTitle": false,
     "title": ""
    }
   },
   "outputs": [],
   "source": []
  }
 ],
 "metadata": {
  "application/vnd.databricks.v1+notebook": {
   "dashboards": [],
   "language": "python",
   "notebookMetadata": {
    "pythonIndentUnit": 4
   },
   "notebookName": "databricks",
   "widgets": {}
  }
 },
 "nbformat": 4,
 "nbformat_minor": 0
}
